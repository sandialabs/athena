{
 "cells": [
  {
   "cell_type": "markdown",
   "id": "79db475c",
   "metadata": {},
   "source": [
    "#### Dependencies"
   ]
  },
  {
   "cell_type": "code",
   "execution_count": 1,
   "id": "ead80bd4",
   "metadata": {},
   "outputs": [],
   "source": [
    "%matplotlib inline\n",
    "import os\n",
    "import pickle5 as pickle\n",
    "import pandas as pd\n",
    "import numpy as np\n",
    "import natsort as ns\n",
    "import matplotlib.pyplot as plt\n",
    "from pathlib import Path"
   ]
  },
  {
   "cell_type": "markdown",
   "id": "56ca6217",
   "metadata": {},
   "source": [
    "#### First, grapple with the CSV data"
   ]
  },
  {
   "cell_type": "code",
   "execution_count": 2,
   "id": "8e520162",
   "metadata": {},
   "outputs": [],
   "source": [
    "# paths to csv files from athena cli and sonos accelerator\n",
    "path_to_athena_data = Path('./vgg_athena_data.csv')\n",
    "path_to_accel_data = Path('./vgg_accel_data.csv')\n",
    "\n",
    "# read in and format the athena cli data\n",
    "vgg_athena = pd.read_csv(path_to_athena_data)\n",
    "vgg_athena['filename'] = pd.Categorical(\n",
    "    vgg_athena['filename'], ordered=True, \n",
    "    categories=ns.natsorted(vgg_athena['filename'].unique())\n",
    ")\n",
    "vgg_athena_conv = vgg_athena[['filename', 'energy_pJ']]\n",
    "vgg_athena_conv = vgg_athena_conv.sort_values('filename')\n",
    "vgg_athena_conv = vgg_athena_conv.reset_index(drop=True)\n",
    "vgg_athena_conv.energy_pJ = vgg_athena_conv.energy_pJ*1e-6 # convert to uJ\n",
    "vgg_athena_conv.rename(\n",
    "    columns={'filename':'name', 'energy_pJ':'energy_uJ'}, inplace=True\n",
    ")\n",
    "\n",
    "# read in and format the accelerator data\n",
    "vgg_accelerator = pd.read_csv(path_to_accel_data)\n",
    "vgg_accel_conv = vgg_accelerator[\n",
    "    vgg_accelerator.layer_name.str.contains('Conv')\n",
    "]\n",
    "vgg_accel_conv = vgg_accel_conv[['layer_name', 'layer_energy_uJ']]\n",
    "vgg_accel_conv = vgg_accel_conv.reset_index(drop=True)\n",
    "vgg_accel_conv.rename(\n",
    "    columns={'layer_name':'name', 'layer_energy_uJ':'energy_uJ'}, inplace=True\n",
    ")\n",
    "\n",
    "# combine data\n",
    "vgg_conv_data = pd.concat(\n",
    "    [vgg_accel_conv, vgg_athena_conv], axis=1, keys=['accelerator', 'athena']\n",
    ")"
   ]
  },
  {
   "cell_type": "code",
   "execution_count": 20,
   "id": "34d9399b",
   "metadata": {},
   "outputs": [],
   "source": [
    "# uncomment either line below to view the entire dataframe \n",
    "# vgg_athena\n",
    "# vgg_accelerator"
   ]
  },
  {
   "cell_type": "code",
   "execution_count": 3,
   "id": "4b8a54ed",
   "metadata": {},
   "outputs": [
    {
     "data": {
      "image/png": "[encoded data removed]",
      "text/plain": [
       "<Figure size 720x432 with 1 Axes>"
      ]
     },
     "metadata": {
      "needs_background": "light"
     },
     "output_type": "display_data"
    }
   ],
   "source": [
    "energy_plot = vgg_conv_data.plot(\n",
    "    kind='bar', figsize=(10,6), \n",
    "    title='SONOS Accelerator vs. ATHENA Results for VGG16',\n",
    "    legend=False, logy=True, xlabel='Layer #', ylabel='Energy (pJ)'\n",
    ")\n",
    "energy_plot.legend(['Accelerator', 'ATHENA'])\n",
    "plt.tight_layout()\n",
    "plt.show()"
   ]
  },
  {
   "cell_type": "markdown",
   "id": "d68b6299",
   "metadata": {},
   "source": [
    "#### Import the detailed data recorded by the athena cli"
   ]
  },
  {
   "cell_type": "code",
   "execution_count": 5,
   "id": "21dfaf8c",
   "metadata": {},
   "outputs": [],
   "source": [
    "# path to detailed summaries reported by timeloop for each layer\n",
    "path_to_detailed_sums = Path('./vgg_athena_detailed.pkl')\n",
    "\n",
    "with open(path_to_detailed_sums, 'rb') as data_file:\n",
    "    vgg_athena_data = pickle.load(data_file)"
   ]
  },
  {
   "cell_type": "code",
   "execution_count": 7,
   "id": "0722c3f5",
   "metadata": {},
   "outputs": [
    {
     "data": {
      "text/plain": [
       "dict_keys(['vgg_layer9', 'vgg_layer5', 'vgg_layer16', 'vgg_layer3', 'vgg_layer10', 'vgg_layer7', 'vgg_layer13', 'vgg_layer1', 'vgg_layer2', 'vgg_layer11', 'vgg_layer12', 'vgg_layer4', 'vgg_layer6', 'vgg_layer15', 'vgg_layer8', 'vgg_layer14'])"
      ]
     },
     "execution_count": 7,
     "metadata": {},
     "output_type": "execute_result"
    }
   ],
   "source": [
    "vgg_athena_data.keys()"
   ]
  },
  {
   "cell_type": "code",
   "execution_count": 10,
   "id": "8eda3d01",
   "metadata": {},
   "outputs": [
    {
     "data": {
      "text/plain": [
       "dict_keys(['MAC', 'ALU_OUT', 'scratchpad', 'MVMin', 'dummy_buffer', 'shared_glb', 'DRAM'])"
      ]
     },
     "execution_count": 10,
     "metadata": {},
     "output_type": "execute_result"
    }
   ],
   "source": [
    "vgg_athena_data['vgg_layer9'].keys()"
   ]
  },
  {
   "cell_type": "code",
   "execution_count": 16,
   "id": "720ef658",
   "metadata": {},
   "outputs": [
    {
     "data": {
      "text/plain": [
       "{'energy': 8693829850890.239, 'utilization': 0.13073929961089495}"
      ]
     },
     "execution_count": 16,
     "metadata": {},
     "output_type": "execute_result"
    }
   ],
   "source": [
    "vgg_athena_data['vgg_layer9']['MAC']"
   ]
  },
  {
   "cell_type": "code",
   "execution_count": 15,
   "id": "79491bb3",
   "metadata": {},
   "outputs": [
    {
     "data": {
      "text/plain": [
       "{'energy': 0.0,\n",
       " 'storage_access_energy': 0.0,\n",
       " 'read_energy': 0.0,\n",
       " 'spatial_add_energy': 0.0,\n",
       " 'temporal_add_energy': 0.0,\n",
       " 'addr_generation_energy': 0.0,\n",
       " 'network_energy': 0.0,\n",
       " 'energy_per_access_per_instance': array([nan, nan, nan]),\n",
       " 'reads_per_instances': array([0, 0, 0]),\n",
       " 'updates_per_instances': array([0, 0, 0]),\n",
       " 'fills_per_instances': array([0, 0, 0]),\n",
       " 'accesses_per_instances': array([0, 0, 0]),\n",
       " 'instances': array([86016, 86016, 86016]),\n",
       " 'utilization': 0.0,\n",
       " 'multicast': array([1, 1, 1]),\n",
       " 'dist_multicast': array([0, 0, 0]),\n",
       " 'num_hops': array([0.5, 0.5, 0.5]),\n",
       " 'ingresses': array([21504, 21504, 21504]),\n",
       " 'energy_per_hop_per_instance': array([0., 0., 0.])}"
      ]
     },
     "execution_count": 15,
     "metadata": {},
     "output_type": "execute_result"
    }
   ],
   "source": [
    "vgg_athena_data['vgg_layer9']['ALU_OUT']"
   ]
  },
  {
   "cell_type": "code",
   "execution_count": 17,
   "id": "cd89e856",
   "metadata": {},
   "outputs": [
    {
     "data": {
      "text/plain": [
       "{'energy': 216530944.0,\n",
       " 'storage_access_energy': 216530944.0,\n",
       " 'read_energy': 165150720.0,\n",
       " 'spatial_add_energy': 0.0,\n",
       " 'temporal_add_energy': 0.0,\n",
       " 'addr_generation_energy': 0.0,\n",
       " 'network_energy': 0.0,\n",
       " 'energy_per_access_per_instance': array([  0., 128., 128.]),\n",
       " 'reads_per_instances': array([      0, 1290240,       0]),\n",
       " 'updates_per_instances': array([     0,      0, 401408]),\n",
       " 'fills_per_instances': array([0, 0, 0]),\n",
       " 'accesses_per_instances': array([      0, 1290240,  401408]),\n",
       " 'instances': array([0, 1, 1]),\n",
       " 'utilization': 1.0,\n",
       " 'multicast': array([0, 4, 6]),\n",
       " 'dist_multicast': array([0, 0, 0]),\n",
       " 'num_hops': array([ 0.        , 25.42296279, 32.21350894]),\n",
       " 'ingresses': array([      0, 1290240,  401408]),\n",
       " 'energy_per_hop_per_instance': array([0., 0., 0.])}"
      ]
     },
     "execution_count": 17,
     "metadata": {},
     "output_type": "execute_result"
    }
   ],
   "source": [
    "vgg_athena_data['vgg_layer9']['DRAM']"
   ]
  },
  {
   "cell_type": "code",
   "execution_count": null,
   "id": "3bb09936",
   "metadata": {},
   "outputs": [],
   "source": []
  }
 ],
 "metadata": {
  "kernelspec": {
   "display_name": "Python 3",
   "language": "python",
   "name": "python3"
  },
  "language_info": {
   "codemirror_mode": {
    "name": "ipython",
    "version": 3
   },
   "file_extension": ".py",
   "mimetype": "text/x-python",
   "name": "python",
   "nbconvert_exporter": "python",
   "pygments_lexer": "ipython3",
   "version": "3.7.10"
  }
 },
 "nbformat": 4,
 "nbformat_minor": 5
}
